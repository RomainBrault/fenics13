{
 "metadata": {
  "name": "slides"
 },
 "nbformat": 3,
 "nbformat_minor": 0,
 "worksheets": [
  {
   "cells": [
    {
     "cell_type": "markdown",
     "metadata": {
      "slideshow": {
       "slide_type": "slide"
      }
     },
     "source": [
      "# Performance Portable Finite Element Computations in Fluidity with UFL, FFC and PyOP2\n",
      "\n",
      "### Florian Rathgeber<sup>1</sup>, Graham Markall<sup>1</sup>, Lawrence Mitchell<sup>3</sup>, Nicolas Loriant<sup>1</sup>, Gheorghe-teodor Bercea<sup>1</sup>, David Ham<sup>1,2</sup>, Paul Kelly<sup>1</sup>\n",
      "\n",
      "#### <sup>1</sup> Department of Computing, Imperial College London\n",
      "#### <sup>2</sup> Grantham Institute for Climate Change, Imperial College London\n",
      "#### <sup>3</sup> EPCC, University of Edinburgh"
     ]
    },
    {
     "cell_type": "markdown",
     "metadata": {
      "slideshow": {
       "slide_type": "notes"
      }
     },
     "source": [
      "I will wrap up the PyOP2 trio today and show you how to do finite-element computations in the PyOP2 parallel universe and benefit from the performance portability Graham demonstrated earlier."
     ]
    },
    {
     "cell_type": "markdown",
     "metadata": {
      "slideshow": {
       "slide_type": "slide"
      }
     },
     "source": [
      "## The PyOP2-Fluidity Tool Chain\n",
      "\n",
      "![The PyOP2-Fluidity Tool Chain](/files/images/pyop2_toolchain.svg)"
     ]
    },
    {
     "cell_type": "markdown",
     "metadata": {
      "slideshow": {
       "slide_type": "notes"
      }
     },
     "source": [
      "* PyOP2: clever way of efficiently executing kernels in parallel on unstructured meshes\n",
      "* could write FEM kernels by hand and feed in mesh data in PyOP2 Dats -> of course we won't\n",
      "* need for FEM: tool to generate kernels, tool to provide the mesh and data over the mesh\n",
      "* this diagram shows the tool chain we provide for this: the PyOP2 part you've already seen in Graham's talk\n",
      "* UFL and FFC provide the one part and we use the Fluidity library I'll introduce later for the meshes"
     ]
    },
    {
     "cell_type": "markdown",
     "metadata": {
      "slideshow": {
       "slide_type": "slide"
      }
     },
     "source": [
      "## Separation of Concerns\n",
      "\n",
      "![An expert for each layer](/files/images/pyop2_toolchain_users.svg)"
     ]
    },
    {
     "cell_type": "markdown",
     "metadata": {
      "slideshow": {
       "slide_type": "notes"
      }
     },
     "source": [
      "* This allows us to deliver separation of concerns or rather expand on what FEniCS already provides by drawing in PyOP2 as another layer of abstraction below the UFL layer\n",
      "* Separation of concerns (CS buzzword): allow scientist to work at the level of their expertise whithout having to worry about the rest:\n",
      "  * FEM model developer\n",
      "  * Numerical analyst\n",
      "  * Parallel programming expert\n",
      "* freely mix and match UFL and PyOP2 (demonstrated later)"
     ]
    },
    {
     "cell_type": "markdown",
     "metadata": {
      "slideshow": {
       "slide_type": "slide"
      }
     },
     "source": [
      "## Comparison to the FEniCS Tool Chain\n",
      "\n",
      "![Comparison to the FEniCS Tool Chain](/files/images/pyop2_toolchain_dolfin.svg)"
     ]
    },
    {
     "cell_type": "markdown",
     "metadata": {
      "slideshow": {
       "slide_type": "notes"
      }
     },
     "source": [
      "How do we compare to FEniCS:\n",
      "\n",
      "* UFL/FFC exactly the same\n",
      "* DOLFIN provides geometry and meshes etc.\n",
      "* UFC interface not quite comparable to PyOP2 (tailored to CPU computation etc.)\n",
      "* PyOP2 supports many more hardware architectures -> transparently exploitable for FEM"
     ]
    },
    {
     "cell_type": "markdown",
     "metadata": {
      "slideshow": {
       "slide_type": "slide"
      }
     },
     "source": [
      "## Interfacing PyOP2 to Fluidity\n",
      "\n",
      "### Fluidity\n",
      "![Backward-facing step](/files/images/BackStep.png)\n",
      "\n",
      "* open source, general purpose, multi-phase computational fluid dynamics code\n",
      "* used internationally for complex fluid tasks\n",
      "* developed at [AMCG](http://amcg.ese.ic.ac.uk/) at Imperial College\n",
      "* XML-based configuration files with GUI editor\n",
      "\n",
      "### Interfacing PyOP2\n",
      "* existing interface to access fields from Python\n",
      "* additional equation type *UFL* alongside Fluidity's built-in equations\n",
      "* user provides custom UFL code\n",
      "* call PyOP2 instead of Fluidity's built-in advection-diffusion solver\n",
      "* create PyOP2 data structures for accessed fields on the fly\n"
     ]
    },
    {
     "cell_type": "markdown",
     "metadata": {
      "slideshow": {
       "slide_type": "notes"
      }
     },
     "source": [
      "Why we chose Fluidity:\n",
      "\n",
      "* established, existing user group\n",
      "* separation of model users and model developers\n",
      "* design: python data structures \"all the way down\""
     ]
    },
    {
     "cell_type": "markdown",
     "metadata": {
      "slideshow": {
       "slide_type": "slide"
      }
     },
     "source": [
      "## UFL equations in Diamond\n",
      "\n",
      "![diamond](/files/images/diamond.png)"
     ]
    },
    {
     "cell_type": "markdown",
     "metadata": {
      "slideshow": {
       "slide_type": "slide"
      }
     },
     "source": [
      "## Driving PyOP2 from UFL source\n",
      "\n",
      "Solving the advection-diffusion equation\n",
      "$$\\frac{\\partial c}{\\partial t} + \\nabla \\cdot (\\vec{u} c) = \\nabla \\cdot (\\kappa \\nabla c) + F$$\n",
      "\n",
      "    t=state.scalar_fields[\"Tracer\"]   # Coefficient(FiniteElement(\"CG\", \"triangle\", 1))\n",
      "    u=state.vector_fields[\"Velocity\"] # Coefficient(VectorElement(\"CG\", \"triangle\", 1))\n",
      "\n",
      "    p=TrialFunction(t)\n",
      "    q=TestFunction(t)\n",
      "\n",
      "    diffusivity = 0.1\n",
      "\n",
      "    M = p * q * dx\n",
      "\n",
      "    d = dt * (diffusivity * dot(grad(q), grad(p)) - dot(grad(q), u) * p) * dx\n",
      "\n",
      "    a = M + 0.5 * d\n",
      "    L = action(M - 0.5 * d, t)\n",
      "\n",
      "    solve(a == L, t)"
     ]
    },
    {
     "cell_type": "markdown",
     "metadata": {
      "slideshow": {
       "slide_type": "notes"
      }
     },
     "source": [
      "How does a user drive the Fluidity-PyOP2 tool chain? They write their model in UFL! This slide shows *all* the code the Fluidity user needs to write to solve an advection-diffusion equation.\n",
      "\n",
      "Small change compared to DOLFIN: the fields come from Fluidity exposed via its internal `state`: `u` and `t` are *both* UFL coefficient and Fluidity scalar/vector fields:\n",
      "\n",
      "* can be used as coefficients in a form\n",
      "* wrap a PyOP2 Dat\n",
      "\n",
      "Memorize the solve call on the last line..."
     ]
    },
    {
     "cell_type": "markdown",
     "metadata": {
      "slideshow": {
       "slide_type": "slide"
      }
     },
     "source": [
      "## Finite element assembly and solve in PyOP2\n",
      "\n",
      "What goes on behind the scenes of the `solve` call (simplified example!):\n",
      "\n",
      "    from pyop2 import op2, ffc_interface\n",
      "\n",
      "    def solve(equation, x):\n",
      "        # Generate kernels for matrix and rhs assembly\n",
      "        lhs = ffc_interface.compile_form(equation.lhs, \"lhs\")[0]\n",
      "        rhs = ffc_interface.compile_form(equation.rhs, \"rhs\")[0]\n",
      "\n",
      "        # Omitted: extract coordinates (coords), connectivity (elem_node)\n",
      "        # and coefficients (tracer t, velocity u)\n",
      "\n",
      "        # Construct OP2 matrix to assemble into\n",
      "        sparsity = op2.Sparsity((elem_node, elem_node), sparsity_dim) \n",
      "        mat = op2.Mat(sparsity, numpy.float64)\n",
      "        b = op2.Dat(nodes, 1, np.zeros(nodes.size))\n",
      "\n",
      "        # Assemble lhs, rhs and solve linear system\n",
      "        op2.par_loop(lhs, elements(3,3),\n",
      "                 mat((elem_node[op2.i[0]], elem_node[op2.i[1]]), op2.INC),\n",
      "                 coords(elem_node, op2.READ))\n",
      "        op2.par_loop(rhs, elements(3),\n",
      "                 b(elem_node[op2.i[0]], op2.INC),\n",
      "                 coords(elem_node, op2.READ),\n",
      "                 t(elem_node, op2.READ),\n",
      "                 u(elem_node, op2.READ))\n",
      "\n",
      "        op2.solve(mat, x, b)"
     ]
    },
    {
     "cell_type": "markdown",
     "metadata": {
      "slideshow": {
       "slide_type": "notes"
      }
     },
     "source": [
      "What goes on \"under the hood\" when you call the `solve` method from the previous slide?\n",
      "\n",
      "This is a (strongly) simpliefied implementation specific to the example PDE from the previous slide, showing what needs to happen in PyOP2."
     ]
    },
    {
     "cell_type": "markdown",
     "metadata": {
      "slideshow": {
       "slide_type": "slide"
      }
     },
     "source": [
      "## Using PyOP2 for non-FEM kernels\n",
      "\n",
      "PyOP2: performance portability for *any* unstructured mesh computations, not limited to FEM!\n",
      "    \n",
      "Use PyOP2 kernel for re-normalising a vector field\n",
      "\n",
      "    vec_norm_code=\"\"\"\n",
      "    void vec_norm(double *u)\n",
      "    {\n",
      "      const double n = sqrt(u[0]*u[0]+u[1]*u[1]);\n",
      "      u[0] /= n;\n",
      "      u[1] /= n;\n",
      "    }\n",
      "    \"\"\"\n",
      "\n",
      "    vec_norm = op2.Kernel(vec_norm_code, \"vec_norm\")\n",
      "\n",
      "    op2.par_loop(vec_norm, nodes,\n",
      "                 u(op2.IdentityMap, op2.RW))"
     ]
    },
    {
     "cell_type": "markdown",
     "metadata": {
      "slideshow": {
       "slide_type": "slide"
      }
     },
     "source": [
      "### Speedup relative to single core Fluidity (single 12-core node)\n",
      "\n",
      "![speedup](/files/parallel_12/speedup_linear.svg)"
     ]
    },
    {
     "cell_type": "markdown",
     "metadata": {
      "slideshow": {
       "slide_type": "slide"
      }
     },
     "source": [
      "### Speedup relative to single core Fluidity (4 12-core nodes)\n",
      "\n",
      "![runtime](/files/parallel_48/speedup_linear.svg)"
     ]
    },
    {
     "cell_type": "markdown",
     "metadata": {
      "slideshow": {
       "slide_type": "slide"
      }
     },
     "source": [
      "## Conclusions & future work\n",
      "\n",
      "### Conclusions\n",
      "* Two-layer abstraction for FEM computation from UFL sources\n",
      "* Decoupling of UFL (FEM) and PyOP2 (parallelisation) layers\n",
      "* Performance portability for unstructured grid applications: FEM, non-FEM or combinations\n",
      "\n",
      "### Future Work\n",
      "* Auto-tuning of optimisation parameters (e.g. iteration space)\n",
      "* Support for curved elements\n",
      "* Kernel fusion"
     ]
    },
    {
     "cell_type": "markdown",
     "metadata": {
      "slideshow": {
       "slide_type": "slide"
      }
     },
     "source": [
      "## Resources\n",
      "\n",
      "* All the code is open source on *GitHub* and *Launchpad*\n",
      "* Contact us: email <mapdes@imperial.ac.uk>\n",
      "\n",
      "### PyOP2\n",
      "<https://github.com/OP2/PyOP2>\n",
      "\n",
      "### FFC\n",
      "<https://code.launchpad.net/~mapdes/ffc/pyop2>\n",
      "\n",
      "### Fluidity\n",
      "<https://code.launchpad.net/~fluidity-core/fluidity/floppy_gn>\n",
      "\n",
      "### Benchmarks\n",
      "<https://github.com/OP2/PyOP2_benchmarks>\n",
      "\n",
      "### This talk\n",
      "<http://kynan.github.com/fenics13>"
     ]
    },
    {
     "cell_type": "markdown",
     "metadata": {
      "slideshow": {
       "slide_type": "slide"
      }
     },
     "source": [
      "## Summary: UFL equations in Fluidity\n",
      "\n",
      "For each UFL equation in each time step:\n",
      "\n",
      "![Fluidity-UFL-PyOP2-toolchain](/files/images/fluidity_pyop2_pipeline.svg)\n",
      "\n",
      "* Shell out to Python, execute the user's UFL equation\n",
      "* FFC generates local assembly kernels for FE forms\n",
      "* Backend-specific JIT-compilation of kernels and calling code\n",
      "    * Instant for the sequential and OpenMP (including MPI)\n",
      "    * PyCUDA for CUDA\n",
      "    * PyOpenCL for OpenCL\n",
      "* Agressive caching of forms, generated code and operators"
     ]
    }
   ],
   "metadata": {}
  }
 ]
}