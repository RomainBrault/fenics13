{
 "metadata": {
  "name": "slides"
 },
 "nbformat": 3,
 "nbformat_minor": 0,
 "worksheets": [
  {
   "cells": [
    {
     "cell_type": "markdown",
     "metadata": {
      "slideshow": {
       "slide_type": "slide"
      }
     },
     "source": [
      "# Performance Portable Finite Element Computations in Fluidity with UFL, FFC and PyOP2\n",
      "\n",
      "## Florian Rathgeber<sup>1</sup>, Graham Markall<sup>1</sup>, Lawrence Mitchell<sup>3</sup>, Nicolas Loriant<sup>1</sup>, Gheorghe-teodor Bercea<sup>1</sup>, David Ham<sup>1,2</sup>, Paul Kelly<sup>1</sup>\n",
      "\n",
      "### <sup>1</sup> Department of Computing, Imperial College London\n",
      "### <sup>2</sup> Grantham Institute for Climate Change, Imperial College London\n",
      "### <sup>3</sup> EPCC, University of Edinburgh"
     ]
    },
    {
     "cell_type": "markdown",
     "metadata": {
      "slideshow": {
       "slide_type": "skip"
      }
     },
     "source": [
      "## The Challenge\n",
      "\n",
      "> How do we get performance-portable finite element solvers that are\n",
      "efficient, generic and easy to use in the hands of domain scientists?"
     ]
    },
    {
     "cell_type": "markdown",
     "metadata": {
      "slideshow": {
       "slide_type": "slide"
      }
     },
     "source": [
      "## The Tool Chain\n",
      "\n",
      "![An expert for each layer](/files/images/mapdes_abstraction_layers_overview_users.svg)"
     ]
    },
    {
     "cell_type": "markdown",
     "metadata": {
      "slideshow": {
       "slide_type": "notes"
      }
     },
     "source": [
      "* We deliver separation of concerns (explain what that is!)\n",
      "* PyOP2: clever way of efficiently executing kernels in parallel on unstructured meshes\n",
      "* need: tool to generate kernels, tool to provide the mesh and data over \n",
      "FIXME: Diagram"
     ]
    },
    {
     "cell_type": "markdown",
     "metadata": {
      "slideshow": {
       "slide_type": "slide"
      }
     },
     "source": [
      "## Driving PyOP2 from UFL source\n",
      "\n",
      "Solving the advection-diffusion equation\n",
      "$$\\frac{\\partial c}{\\partial t} + \\nabla \\cdot (\\vec{u} c) = \\nabla \\cdot (\\kappa \\nabla c) + F$$\n",
      "\n",
      "    t=state.scalar_fields[\"Tracer\"]   # Coefficient(FiniteElement(\"CG\", \"triangle\", 1))\n",
      "    u=state.vector_fields[\"Velocity\"] # Coefficient(VectorElement(\"CG\", \"triangle\", 1))\n",
      "\n",
      "    p=TrialFunction(t)\n",
      "    q=TestFunction(t)\n",
      "\n",
      "    diffusivity = 0.1\n",
      "\n",
      "    M = p * q * dx\n",
      "\n",
      "    d = dt * (diffusivity * dot(grad(q), grad(p)) - dot(grad(q), u) * p) * dx\n",
      "\n",
      "    a = M+0.5*d\n",
      "    L = action(M-0.5*d, t)\n",
      "\n",
      "    solve(a == L, t)"
     ]
    },
    {
     "cell_type": "markdown",
     "metadata": {
      "slideshow": {
       "slide_type": "slide"
      }
     },
     "source": [
      "## Finite element assembly and solve in PyOP2\n",
      "\n",
      "    from pyop2 import op2, ffc_interface\n",
      "\n",
      "    def solve(equation, x):\n",
      "        # Generate kernels for matrix and rhs assembly\n",
      "        lhs = ffc_interface.compile_form(equation.lhs, \"lhs\")[0]\n",
      "        rhs = ffc_interface.compile_form(equation.rhs, \"rhs\")[0]\n",
      "\n",
      "        # Omitted: extract coordinates (coords), connectivity (elem_node)\n",
      "        # and coefficients (tracer t, velocity u)\n",
      "\n",
      "        # Construct OP2 matrix to assemble into\n",
      "        sparsity = op2.Sparsity((elem_node, elem_node), sparsity_dim) \n",
      "        mat = op2.Mat(sparsity, numpy.float64)\n",
      "        b = op2.Dat(nodes, 1, np.zeros(nodes.size))\n",
      "\n",
      "        # Assemble lhs, rhs and solve linear system\n",
      "        op2.par_loop(lhs, elements(3,3),\n",
      "                 mat((elem_node[op2.i[0]], elem_node[op2.i[1]]), op2.INC),\n",
      "                 coords(elem_node, op2.READ))\n",
      "\n",
      "        op2.par_loop(rhs, elements(3),\n",
      "                 b(elem_node[op2.i[0]], op2.INC),\n",
      "                 coords(elem_node, op2.READ),\n",
      "                 t(elem_node, op2.READ),\n",
      "                 u(elem_node, op2.READ))\n",
      "\n",
      "        op2.solve(mat, x, b)"
     ]
    },
    {
     "cell_type": "markdown",
     "metadata": {
      "slideshow": {
       "slide_type": "notes"
      }
     },
     "source": [
      "This is a simpliefied implementation specific to the example PDE from the previous slide, showing what goes on \"under the hood\" when you call the `solve` method from the previous slide."
     ]
    },
    {
     "cell_type": "markdown",
     "metadata": {
      "slideshow": {
       "slide_type": "slide"
      }
     },
     "source": [
      "## Using PyOP2 for non-FEM kernels\n",
      "\n",
      "Benefit from PyOP2's performance portability for re-normalising a vector field\n",
      "\n",
      "    vec_norm_code=\"\"\"\n",
      "    void vec_norm(double *u)\n",
      "    {\n",
      "      const double n = sqrt(u[0]*u[0]+u[1]*u[1]);\n",
      "      u[0] /= n;\n",
      "      u[1] /= n;\n",
      "    }\n",
      "    \"\"\"\n",
      "\n",
      "    vec_norm = op2.Kernel(vec_norm_code, \"vec_norm\")\n",
      "\n",
      "    op2.par_loop(vec_norm, nodes,\n",
      "                 u(op2.IdentityMap, op2.RW))"
     ]
    },
    {
     "cell_type": "markdown",
     "metadata": {
      "slideshow": {
       "slide_type": "slide"
      }
     },
     "source": [
      "## Interfacing PyOP2 to Fluidity\n",
      "\n",
      "### Fluidity\n",
      "![Backward-facing step](/files/images/BackStep.png)\n",
      "\n",
      "* open source, general purpose, multi-phase computational fluid dynamics code\n",
      "* used internationally for complex fluid tasks\n",
      "* developed at [AMCG](http://amcg.ese.ic.ac.uk/) at Imperial College\n",
      "* XML-based configuration files with GUI editor\n",
      "* existing interface to access fields from Python\n",
      "\n",
      "### Interfacing PyOP2\n",
      "* additional equation type *UFL* alongside Fluidity's built-in equations, where user provides custom UFL code\n",
      "* call PyOP2 instead of Fluidity's built-in advection-diffusion solver\n",
      "* create PyOP2 data structures for accessed fields on the fly\n"
     ]
    },
    {
     "cell_type": "markdown",
     "metadata": {
      "slideshow": {
       "slide_type": "notes"
      }
     },
     "source": [
      "Why we chose Fluidity:\n",
      "\n",
      "* established, existing user group\n",
      "* separation of model users and model developers\n",
      "* design: python data structures \"all the way down\""
     ]
    },
    {
     "cell_type": "markdown",
     "metadata": {
      "slideshow": {
       "slide_type": "slide"
      }
     },
     "source": [
      "## UFL equations in Diamond\n",
      "\n",
      "![diamond](/files/images/diamond.png)"
     ]
    },
    {
     "cell_type": "markdown",
     "metadata": {
      "slideshow": {
       "slide_type": "slide"
      }
     },
     "source": [
      "## Speedup relative to Fluidity on single core\n",
      "\n",
      "100 advection-diffusion time steps on a 2x 6 core node\n",
      "\n",
      "![speedup](/files/parallel_12/speedup_linear.svg)"
     ]
    },
    {
     "cell_type": "markdown",
     "metadata": {
      "slideshow": {
       "slide_type": "slide"
      }
     },
     "source": [
      "## Total runtime compared to Fluidity on 48 cores\n",
      "\n",
      "100 advection-diffusion time steps on 4 2x 6 core nodes\n",
      "\n",
      "![runtime](/files/parallel_48/runtime_linear.svg)"
     ]
    },
    {
     "cell_type": "markdown",
     "metadata": {
      "slideshow": {
       "slide_type": "slide"
      }
     },
     "source": [
      "## Conclusions & future work\n",
      "\n",
      "### Conclusions\n",
      "* Two-layer abstraction for FEM computation from UFL sources\n",
      "* Decoupling of UFL (FEM) and PyOP2 (parallelisation) layers\n",
      "* Performance portability for unstructured grid applications: FEM, non-FEM or combinations\n",
      "\n",
      "### Future Work\n",
      "* Auto-tuning of optimisation parameters (e.g. iteration space)\n",
      "* Support for isoparametric elements\n",
      "* Kernel fusion"
     ]
    },
    {
     "cell_type": "markdown",
     "metadata": {
      "slideshow": {
       "slide_type": "slide"
      }
     },
     "source": [
      "## Resources\n",
      "\n",
      "* All the code is open source on *GitHub* and *Launchpad*\n",
      "* Email: <f.rathgeber@imperial.ac.uk>\n",
      "\n",
      "### PyOP2\n",
      "<https://github.com/OP2/PyOP2>\n",
      "\n",
      "### FFC\n",
      "<https://code.launchpad.net/~mapdes/ffc/pyop2>\n",
      "\n",
      "### Fluidity\n",
      "<https://code.launchpad.net/~fluidity-core/fluidity/floppy_gn>\n",
      "\n",
      "### Benchmarks\n",
      "<https://github.com/OP2/PyOP2_benchmarks>\n",
      "\n",
      "### This talk\n",
      "<http://kynan.github.com/talks/fenics13>"
     ]
    },
    {
     "cell_type": "markdown",
     "metadata": {
      "slideshow": {
       "slide_type": "slide"
      }
     },
     "source": [
      "## Summary: UFL equations in Fluidity\n",
      "\n",
      "For each UFL equation in each time step:\n",
      "\n",
      "![Fluidity-UFL-PyOP2-toolchain](/files/images/fluidity_pyop2_pipeline.svg)\n",
      "\n",
      "* Shell out to Python, execute the user's UFL equation\n",
      "* FFC generates local assembly kernels for FE forms\n",
      "* Backend-specific JIT-compilation of kernels and calling code\n",
      "    * Instant for the sequential and OpenMP (including MPI)\n",
      "    * PyCUDA for CUDA\n",
      "    * PyOpenCL for OpenCL\n",
      "* Agressive caching of forms, generated code and operators"
     ]
    }
   ],
   "metadata": {}
  }
 ]
}